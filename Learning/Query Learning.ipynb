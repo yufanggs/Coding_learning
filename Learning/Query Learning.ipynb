{
 "cells": [
  {
   "cell_type": "markdown",
   "metadata": {},
   "source": [
    "# Learning"
   ]
  },
  {
   "cell_type": "code",
   "execution_count": null,
   "metadata": {},
   "outputs": [],
   "source": [
    "ls_of_ls = [['a', 'b', 'c'], ['d', 'e', 'f']]\n",
    "\n",
    "ls_of_ls[1][2]"
   ]
  },
  {
   "cell_type": "code",
   "execution_count": 1,
   "metadata": {},
   "outputs": [
    {
     "data": {
      "text/plain": [
       "'460166'"
      ]
     },
     "execution_count": 1,
     "metadata": {},
     "output_type": "execute_result"
    }
   ],
   "source": [
    "account={\"name\":\"adam\",\"address\":\"460166\"}\n",
    "#info/property/key/attribute: name, address, value: adam\n",
    "\n",
    "account[\"address\"] #getting value from the attribute\n",
    "\n",
    "#account ->> \"address\"::text (postgres)\n",
    "#account.address (java)"
   ]
  },
  {
   "cell_type": "code",
   "execution_count": 6,
   "metadata": {},
   "outputs": [],
   "source": [
    "address_ls = [\"460166\", \"Bedok\", \"Singapore\"]\n"
   ]
  },
  {
   "cell_type": "code",
   "execution_count": 8,
   "metadata": {},
   "outputs": [
    {
     "data": {
      "text/plain": [
       "['460166', 'Bedok', 'Singapore']"
      ]
     },
     "execution_count": 8,
     "metadata": {},
     "output_type": "execute_result"
    }
   ],
   "source": [
    "account2 = {\"name\":\"adam\",\n",
    "            \"address\": address_ls \n",
    "           }\n",
    "account2[\"address\"] #get method to get the info for the address"
   ]
  },
  {
   "cell_type": "code",
   "execution_count": 11,
   "metadata": {},
   "outputs": [
    {
     "data": {
      "text/plain": [
       "'Singapore'"
      ]
     },
     "execution_count": 11,
     "metadata": {},
     "output_type": "execute_result"
    }
   ],
   "source": [
    "#info needs to be accessible by any user\n",
    "#easy to read -> if you read it, you'll know what each attribute means\n",
    "\n",
    "account3 = {\"name\":\"adam\",\n",
    "            \"address\": \"bedok\",\n",
    "            \"postal_code\": \"460166\",\n",
    "            \"country\":\"Singapore\"}\n",
    "    \n",
    "account3[\"country\"]"
   ]
  },
  {
   "cell_type": "code",
   "execution_count": 12,
   "metadata": {},
   "outputs": [
    {
     "data": {
      "text/plain": [
       "'st gabs'"
      ]
     },
     "execution_count": 12,
     "metadata": {},
     "output_type": "execute_result"
    }
   ],
   "source": [
    "address={\"postal_code\": 550215, \"country\": \"Singapore\", \"region\": \"Serangoon\"}\n",
    "\n",
    "account4 = {\"name\": \"yufang\", \"address\": address, \"education\": {\"secondary\":\"st gabs\", \"jc\":\"tpjc\"}}\n",
    "\n",
    "account4[\"education\"][\"secondary\"]"
   ]
  },
  {
   "cell_type": "code",
   "execution_count": 14,
   "metadata": {},
   "outputs": [],
   "source": [
    "#datatypes => string, text, varchar, float, ls, dictionary\n",
    "#reference objects: something that is pointing to another thing"
   ]
  },
  {
   "cell_type": "code",
   "execution_count": 17,
   "metadata": {},
   "outputs": [
    {
     "name": "stdout",
     "output_type": "stream",
     "text": [
      "{'name': 'adam', 'address': '460166'}\n",
      "{'name': 'adam', 'address': ['460166', 'Bedok', 'Singapore']}\n",
      "{'name': 'adam', 'address': 'bedok', 'postal_code': '460166', 'country': 'Singapore'}\n",
      "{'name': 'yufang', 'address': {'postal_code': 550215, 'country': 'Singapore', 'region': 'Serangoon'}, 'education': {'secondary': 'st gabs', 'jc': 'tpjc'}}\n"
     ]
    }
   ],
   "source": [
    "table=[account, account2, account3, account4]\n",
    "\n",
    "for row in table:\n",
    "    print(row)"
   ]
  },
  {
   "cell_type": "code",
   "execution_count": 19,
   "metadata": {},
   "outputs": [],
   "source": [
    "#this is list with 3 elements/objects which is a dictionary\n",
    "full_response = [\n",
    "    {\n",
    "        \"timestamp\": \"2010....12:00:00\",\n",
    "        \"detections\": [\n",
    "            { \"class\": \"Person\", \"count\": 5 },\n",
    "            { \"class\": \"Face\", \"count\": 0 },\n",
    "            { \"class\": \"Vehicle\", \"count\": 58 },\n",
    "            { \"class\": \"Object\", \"count\": 512 }\n",
    "        ]\n",
    "    },\n",
    "    {\n",
    "        \"timestamp\": \"2010....12:05:00\",\n",
    "        \"detections\": [\n",
    "            { \"class\": \"Person\", \"count\": 3 },\n",
    "            { \"class\": \"Face\", \"count\": 0 },\n",
    "            { \"class\": \"Vehicle\", \"count\": 90 },\n",
    "            { \"class\": \"Object\", \"count\": 322 }\n",
    "        ]\n",
    "    },\n",
    "    {\n",
    "        \"timestamp\": \"2010....12:10:00\",\n",
    "        \"detections\": [\n",
    "            { \"class\": \"Person\", \"count\": 9 },\n",
    "            { \"class\": \"Face\", \"count\": 0 },\n",
    "            { \"class\": \"Vehicle\", \"count\": 38 },\n",
    "            { \"class\": \"Object\", \"count\": 432 }\n",
    "        ]\n",
    "    }\n",
    "]"
   ]
  },
  {
   "cell_type": "code",
   "execution_count": 20,
   "metadata": {},
   "outputs": [
    {
     "data": {
      "text/plain": [
       "90"
      ]
     },
     "execution_count": 20,
     "metadata": {},
     "output_type": "execute_result"
    }
   ],
   "source": [
    "full_response[1][\"detections\"][2][\"count\"]"
   ]
  },
  {
   "cell_type": "code",
   "execution_count": null,
   "metadata": {},
   "outputs": [],
   "source": []
  }
 ],
 "metadata": {
  "kernelspec": {
   "display_name": "Python 3",
   "language": "python",
   "name": "python3"
  },
  "language_info": {
   "codemirror_mode": {
    "name": "ipython",
    "version": 3
   },
   "file_extension": ".py",
   "mimetype": "text/x-python",
   "name": "python",
   "nbconvert_exporter": "python",
   "pygments_lexer": "ipython3",
   "version": "3.7.5"
  }
 },
 "nbformat": 4,
 "nbformat_minor": 4
}
