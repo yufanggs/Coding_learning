{
 "cells": [
  {
   "cell_type": "code",
   "execution_count": null,
   "metadata": {},
   "outputs": [],
   "source": [
    "phonebook = {\n",
    "    \"John\" : 938477566,\n",
    "    \"Jack\" : 938377264,\n",
    "    \"Jill\" : 947662781\n",
    "}\n",
    "print(phonebook)"
   ]
  },
  {
   "cell_type": "code",
   "execution_count": 3,
   "metadata": {},
   "outputs": [
    {
     "name": "stdout",
     "output_type": "stream",
     "text": [
      "User exists\n"
     ]
    }
   ],
   "source": [
    "if \"John\" in phonebook:\n",
    "    print(\"User exists\")\n",
    "    \n",
    "else:\n",
    "    print(\"User does not exist\")"
   ]
  },
  {
   "cell_type": "code",
   "execution_count": 4,
   "metadata": {},
   "outputs": [
    {
     "name": "stdout",
     "output_type": "stream",
     "text": [
      "Yes it exists\n"
     ]
    }
   ],
   "source": [
    "if phonebook.get(\"Jack\")!=None:\n",
    "    print(\"Yes it exists\")\n",
    "    \n",
    "else:\n",
    "    \n",
    "    print(\"No it doesnt\")"
   ]
  },
  {
   "cell_type": "code",
   "execution_count": 5,
   "metadata": {},
   "outputs": [
    {
     "name": "stdout",
     "output_type": "stream",
     "text": [
      "{'John': 938477566, 'Jack': 938377264, 'Jill': 947662781, 'bob': None}\n"
     ]
    }
   ],
   "source": [
    "phonebook[\"bob\"]=None\n",
    "print(phonebook)"
   ]
  },
  {
   "cell_type": "code",
   "execution_count": 6,
   "metadata": {},
   "outputs": [
    {
     "name": "stdout",
     "output_type": "stream",
     "text": [
      "it exists\n"
     ]
    }
   ],
   "source": [
    "if phonebook.get(\"bob\",-1)!=-1:\n",
    "    print(\"it exists\")\n",
    "    \n",
    "else:\n",
    "    print(\"it doesnt exists\")\n",
    "    "
   ]
  },
  {
   "cell_type": "code",
   "execution_count": 7,
   "metadata": {},
   "outputs": [
    {
     "data": {
      "text/plain": [
       "True"
      ]
     },
     "execution_count": 7,
     "metadata": {},
     "output_type": "execute_result"
    }
   ],
   "source": [
    "\"John\" in phonebook"
   ]
  },
  {
   "cell_type": "code",
   "execution_count": 8,
   "metadata": {},
   "outputs": [
    {
     "ename": "SyntaxError",
     "evalue": "'return' outside function (<ipython-input-8-506bd65fa21b>, line 3)",
     "output_type": "error",
     "traceback": [
      "\u001b[0;36m  File \u001b[0;32m\"<ipython-input-8-506bd65fa21b>\"\u001b[0;36m, line \u001b[0;32m3\u001b[0m\n\u001b[0;31m    return a\u001b[0m\n\u001b[0m    ^\u001b[0m\n\u001b[0;31mSyntaxError\u001b[0m\u001b[0;31m:\u001b[0m 'return' outside function\n"
     ]
    }
   ],
   "source": [
    "if name in phonebook:\n",
    "    if password == phonebook[name]:\n",
    "        return a"
   ]
  },
  {
   "cell_type": "code",
   "execution_count": 9,
   "metadata": {},
   "outputs": [
    {
     "name": "stdout",
     "output_type": "stream",
     "text": [
      "{'John': 938477566, 'Jack': 938377264, 'Jill': 947662781, 'bob': None, 'adam': 97836944}\n"
     ]
    }
   ],
   "source": [
    "phonebook[\"adam\"]=97836944\n",
    "print(phonebook)"
   ]
  },
  {
   "cell_type": "markdown",
   "metadata": {},
   "source": [
    "# Login function\n"
   ]
  },
  {
   "cell_type": "code",
   "execution_count": 14,
   "metadata": {},
   "outputs": [
    {
     "data": {
      "text/plain": [
       "'Invalid username'"
      ]
     },
     "execution_count": 14,
     "metadata": {},
     "output_type": "execute_result"
    }
   ],
   "source": [
    "def checkusername(username):\n",
    "    \n",
    "    Logindatabase={'Tom': '1234', 'Dick': '5678', 'Harry': '9101'}\n",
    "    \n",
    "    if username in Logindatabase:\n",
    "        \n",
    "        return \"Valid username\"\n",
    "\n",
    "    else:\n",
    "        \n",
    "        return \"Invalid username\"\n",
    "\n",
    "\n",
    "checkusername('Harry'=='9101')\n",
    "\n"
   ]
  },
  {
   "cell_type": "code",
   "execution_count": 1,
   "metadata": {},
   "outputs": [
    {
     "name": "stdout",
     "output_type": "stream",
     "text": [
      "Your nameTom\n",
      "Your password1234\n",
      "Welcome Tom\n"
     ]
    }
   ],
   "source": [
    "user_pass = {'Tom': '1234', 'Dick': '5678', 'Harry': '9101'}\n",
    "\n",
    "while True:\n",
    "    user = input(\"Your name\")\n",
    "    pwd = input(\"Your password\")\n",
    "\n",
    "    if user in user_pass and pwd == user_pass[user]:\n",
    "        print(\"Welcome\", user)\n",
    "        break\n",
    "    else:\n",
    "        user_pass[user]=pwd\n",
    "        print(\"registration completed,please login\")"
   ]
  },
  {
   "cell_type": "code",
   "execution_count": null,
   "metadata": {},
   "outputs": [],
   "source": []
  }
 ],
 "metadata": {
  "kernelspec": {
   "display_name": "Python 3",
   "language": "python",
   "name": "python3"
  },
  "language_info": {
   "codemirror_mode": {
    "name": "ipython",
    "version": 3
   },
   "file_extension": ".py",
   "mimetype": "text/x-python",
   "name": "python",
   "nbconvert_exporter": "python",
   "pygments_lexer": "ipython3",
   "version": "3.7.5"
  }
 },
 "nbformat": 4,
 "nbformat_minor": 2
}
