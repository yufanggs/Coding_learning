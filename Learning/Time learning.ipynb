{
 "cells": [
  {
   "cell_type": "code",
   "execution_count": 7,
   "metadata": {},
   "outputs": [
    {
     "name": "stdout",
     "output_type": "stream",
     "text": [
      "its noon\n"
     ]
    }
   ],
   "source": [
    "def checkamorpm(hours,minutes):\n",
    "    if hours>12:\n",
    "        print(\"it is pm\")\n",
    "        \n",
    "    elif hours==12:\n",
    "        print(\"its noon\")\n",
    "        \n",
    "    else:\n",
    "        print(\"it is am\")\n",
    "    \n",
    "checkamorpm(12,4)\n"
   ]
  },
  {
   "cell_type": "code",
   "execution_count": 54,
   "metadata": {},
   "outputs": [
    {
     "data": {
      "text/plain": [
       "'12:30am'"
      ]
     },
     "execution_count": 54,
     "metadata": {},
     "output_type": "execute_result"
    }
   ],
   "source": [
    "def converttoclock(hours,minutes):\n",
    "    \n",
    "    convertedminutes=maketotwodigit(minutes)\n",
    "    \n",
    "    if hours-12>0:\n",
    "        \n",
    "        return str(hours-12) + ':' + str(convertedminutes) + 'pm'\n",
    "    \n",
    "    else:\n",
    "        return str(hours) + ':' + str(convertedminutes) + 'am'\n",
    "    \n",
    "converttoclock(12,30)"
   ]
  },
  {
   "cell_type": "code",
   "execution_count": 55,
   "metadata": {},
   "outputs": [
    {
     "data": {
      "text/plain": [
       "'02'"
      ]
     },
     "execution_count": 55,
     "metadata": {},
     "output_type": "execute_result"
    }
   ],
   "source": [
    "def maketotwodigit(minutes):\n",
    "    if minutes <10:\n",
    "        return str(0) + str(minutes)\n",
    "    \n",
    "    else:\n",
    "        return minutes\n",
    "    \n",
    "maketotwodigit(2)"
   ]
  },
  {
   "cell_type": "code",
   "execution_count": 40,
   "metadata": {},
   "outputs": [
    {
     "data": {
      "text/plain": [
       "'02'"
      ]
     },
     "execution_count": 40,
     "metadata": {},
     "output_type": "execute_result"
    }
   ],
   "source": [
    "mins = 2\n",
    "'0'+ str(mins)"
   ]
  },
  {
   "cell_type": "code",
   "execution_count": 42,
   "metadata": {},
   "outputs": [
    {
     "data": {
      "text/plain": [
       "-9"
      ]
     },
     "execution_count": 42,
     "metadata": {},
     "output_type": "execute_result"
    }
   ],
   "source": []
  },
  {
   "cell_type": "code",
   "execution_count": null,
   "metadata": {},
   "outputs": [],
   "source": []
  }
 ],
 "metadata": {
  "kernelspec": {
   "display_name": "Python 3",
   "language": "python",
   "name": "python3"
  },
  "language_info": {
   "codemirror_mode": {
    "name": "ipython",
    "version": 3
   },
   "file_extension": ".py",
   "mimetype": "text/x-python",
   "name": "python",
   "nbconvert_exporter": "python",
   "pygments_lexer": "ipython3",
   "version": "3.7.5"
  }
 },
 "nbformat": 4,
 "nbformat_minor": 2
}
