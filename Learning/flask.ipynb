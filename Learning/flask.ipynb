{
 "cells": [
  {
   "cell_type": "code",
   "execution_count": 14,
   "metadata": {},
   "outputs": [],
   "source": [
    "def index(): \n",
    " \n",
    "    response = { \n",
    "                'status'    :   200, \n",
    "                'body'      :   'Endpoint ok' \n",
    "                } \n",
    " \n",
    "    return response"
   ]
  },
  {
   "cell_type": "code",
   "execution_count": 15,
   "metadata": {},
   "outputs": [],
   "source": [
    "r=index()"
   ]
  },
  {
   "cell_type": "code",
   "execution_count": 16,
   "metadata": {},
   "outputs": [
    {
     "data": {
      "text/plain": [
       "{'status': 200, 'body': 'Endpoint ok'}"
      ]
     },
     "execution_count": 16,
     "metadata": {},
     "output_type": "execute_result"
    }
   ],
   "source": [
    "r"
   ]
  },
  {
   "cell_type": "code",
   "execution_count": 17,
   "metadata": {},
   "outputs": [],
   "source": [
    "import requests as rq\n",
    "def check_api_server(): \n",
    " \n",
    "    url_call = rq.get(API_ENDPOINT) \n",
    "    response = url_call.content \n",
    " \n",
    "    return response "
   ]
  },
  {
   "cell_type": "code",
   "execution_count": 18,
   "metadata": {},
   "outputs": [
    {
     "data": {
      "text/plain": [
       "b'I am testing!'"
      ]
     },
     "execution_count": 18,
     "metadata": {},
     "output_type": "execute_result"
    }
   ],
   "source": [
    "r = rq.get(\"http://127.0.0.1:5000/testing\")\n",
    "r.content"
   ]
  },
  {
   "cell_type": "code",
   "execution_count": 21,
   "metadata": {},
   "outputs": [
    {
     "data": {
      "text/plain": [
       "b'Hello World!'"
      ]
     },
     "execution_count": 21,
     "metadata": {},
     "output_type": "execute_result"
    }
   ],
   "source": [
    "r = rq.get(\"http://127.0.0.1:5000\")\n",
    "r.content"
   ]
  },
  {
   "cell_type": "code",
   "execution_count": 22,
   "metadata": {},
   "outputs": [
    {
     "data": {
      "text/plain": [
       "b'I am eating!'"
      ]
     },
     "execution_count": 22,
     "metadata": {},
     "output_type": "execute_result"
    }
   ],
   "source": [
    "r = rq.post(\"http://127.0.0.1:5000/iceream\")\n",
    "r.content"
   ]
  },
  {
   "cell_type": "code",
   "execution_count": 44,
   "metadata": {},
   "outputs": [
    {
     "data": {
      "text/plain": [
       "b'I am eating!'"
      ]
     },
     "execution_count": 44,
     "metadata": {},
     "output_type": "execute_result"
    }
   ],
   "source": [
    "r = rq.get(\"http://127.0.0.1:5000/iceream\")\n",
    "r.content"
   ]
  },
  {
   "cell_type": "code",
   "execution_count": 25,
   "metadata": {},
   "outputs": [
    {
     "data": {
      "text/plain": [
       "b'I am puting!'"
      ]
     },
     "execution_count": 25,
     "metadata": {},
     "output_type": "execute_result"
    }
   ],
   "source": [
    "r = rq.put(\"http://127.0.0.1:5000/iceream\")\n",
    "r.content"
   ]
  },
  {
   "cell_type": "code",
   "execution_count": 40,
   "metadata": {},
   "outputs": [
    {
     "data": {
      "text/plain": [
       "False"
      ]
     },
     "execution_count": 40,
     "metadata": {},
     "output_type": "execute_result"
    }
   ],
   "source": [
    "4 in [1,2,3]"
   ]
  },
  {
   "cell_type": "code",
   "execution_count": 50,
   "metadata": {},
   "outputs": [
    {
     "data": {
      "text/plain": [
       "'Valid username'"
      ]
     },
     "execution_count": 50,
     "metadata": {},
     "output_type": "execute_result"
    }
   ],
   "source": [
    "def checkusername(username):\n",
    "    \n",
    "    usernamelist=['dam','yufang','sam','byebye','hello']\n",
    "    \n",
    "    if username in usernamelist:\n",
    "        \n",
    "        return \"Valid username\"\n",
    "\n",
    "    else:\n",
    "        \n",
    "        return \"Invalid username\"\n",
    "\n",
    "dam = 'sam'\n",
    "checkusername(dam)\n",
    "    \n"
   ]
  },
  {
   "cell_type": "code",
   "execution_count": null,
   "metadata": {},
   "outputs": [],
   "source": [
    "def positiveornot(num):\n",
    "    if num > 0:\n",
    "        \n",
    "        print(\"Positive number\")\n",
    "    \n",
    "    elif num == 0:\n",
    "        print(\"Zero\")\n",
    "        \n",
    "    else:\n",
    "        print(\"Negative number\")\n",
    "        \n",
    "positiveornot(-4)"
   ]
  },
  {
   "cell_type": "code",
   "execution_count": 46,
   "metadata": {},
   "outputs": [
    {
     "data": {
      "text/plain": [
       "',mine'"
      ]
     },
     "execution_count": 46,
     "metadata": {},
     "output_type": "execute_result"
    }
   ],
   "source": [
    "dic={\"yufang\": \"Jessie6\", \"adam\": \",mine\"}\n",
    "\n",
    "\n",
    "dic[\"adam\"]"
   ]
  },
  {
   "cell_type": "code",
   "execution_count": 1,
   "metadata": {},
   "outputs": [
    {
     "data": {
      "text/plain": [
       "'Valid username'"
      ]
     },
     "execution_count": 1,
     "metadata": {},
     "output_type": "execute_result"
    }
   ],
   "source": [
    "def login(username,password):\n",
    "    return checkusername(username)\n",
    "\n",
    "def checkusername(username):\n",
    "    usernamelist = ['dam', 'yufang', 'sam', 'byebye', 'hello']\n",
    "\n",
    "    if username in usernamelist:\n",
    "\n",
    "        return \"Valid username\"\n",
    "\n",
    "    else:\n",
    "\n",
    "        return \"Invalid username\"\n",
    "    \n",
    "dam = 'sam'\n",
    "checkusername(dam)"
   ]
  },
  {
   "cell_type": "code",
   "execution_count": null,
   "metadata": {},
   "outputs": [],
   "source": []
  },
  {
   "cell_type": "code",
   "execution_count": 149,
   "metadata": {},
   "outputs": [
    {
     "data": {
      "text/plain": [
       "'Registration Successful'"
      ]
     },
     "execution_count": 149,
     "metadata": {},
     "output_type": "execute_result"
    }
   ],
   "source": [
    "Logindatabase={'Tom': '1234', 'Dick': '5678', 'Harry': '9101'}\n",
    "\n",
    "def login(username,password):\n",
    "    \n",
    "   \n",
    "    #if Logindatabase.has_key(username):\n",
    "    if username in Logindatabase:\n",
    "        \n",
    "        if Logindatabase[username]==password:\n",
    "            return 'username and password match'\n",
    "            \n",
    "        else:\n",
    "            return 'user entered the wrong password'\n",
    "            \n",
    "    else:\n",
    "        \n",
    "        return 'your username is not registered. Would you like to register'\n",
    "        \n",
    "    \n",
    "        \n",
    "def register(username,password):\n",
    "    if username in Logindatabase:\n",
    "        return 'Please choose another username'\n",
    "        \n",
    "    else:\n",
    "        Logindatabase.update({username: password})\n",
    "        return 'Registration Successful'\n",
    "\n",
    "\n",
    "register('Sasa','2777')\n",
    "register(\"Bala\",'3333')"
   ]
  },
  {
   "cell_type": "code",
   "execution_count": 150,
   "metadata": {},
   "outputs": [
    {
     "name": "stdout",
     "output_type": "stream",
     "text": [
      "{'Tom': '1234', 'Dick': '5678', 'Harry': '9101', 'Sasa': '2777', 'Bala': '3333'}\n"
     ]
    }
   ],
   "source": [
    "print(Logindatabase)"
   ]
  },
  {
   "cell_type": "code",
   "execution_count": 157,
   "metadata": {},
   "outputs": [
    {
     "data": {
      "text/plain": [
       "b'username and password match'"
      ]
     },
     "execution_count": 157,
     "metadata": {},
     "output_type": "execute_result"
    }
   ],
   "source": [
    "r = rq.get(\"http://127.0.0.1:5000/login/Bala/3333\")\n",
    "r.content"
   ]
  },
  {
   "cell_type": "code",
   "execution_count": 155,
   "metadata": {},
   "outputs": [
    {
     "data": {
      "text/plain": [
       "b'Registration Successful'"
      ]
     },
     "execution_count": 155,
     "metadata": {},
     "output_type": "execute_result"
    }
   ],
   "source": [
    "r = rq.get(\"http://127.0.0.1:5000/register/Bala/3333\")\n",
    "r.content"
   ]
  },
  {
   "cell_type": "code",
   "execution_count": 156,
   "metadata": {},
   "outputs": [
    {
     "data": {
      "text/plain": [
       "b'{\"Bala\":\"3333\",\"Dick\":\"5678\",\"Harry\":\"9101\",\"Sasa\":\"2777\",\"Tom\":\"1234\"}\\n'"
      ]
     },
     "execution_count": 156,
     "metadata": {},
     "output_type": "execute_result"
    }
   ],
   "source": [
    "r = rq.get(\"http://127.0.0.1:5000/getdatabase\")\n",
    "r.content"
   ]
  },
  {
   "cell_type": "code",
   "execution_count": null,
   "metadata": {},
   "outputs": [],
   "source": []
  }
 ],
 "metadata": {
  "kernelspec": {
   "display_name": "Python 3",
   "language": "python",
   "name": "python3"
  },
  "language_info": {
   "codemirror_mode": {
    "name": "ipython",
    "version": 3
   },
   "file_extension": ".py",
   "mimetype": "text/x-python",
   "name": "python",
   "nbconvert_exporter": "python",
   "pygments_lexer": "ipython3",
   "version": "3.7.5"
  }
 },
 "nbformat": 4,
 "nbformat_minor": 2
}
